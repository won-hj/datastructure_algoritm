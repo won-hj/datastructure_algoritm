{
  "nbformat": 4,
  "nbformat_minor": 0,
  "metadata": {
    "colab": {
      "provenance": [],
      "toc_visible": true,
      "authorship_tag": "ABX9TyMIsg4BmGRa49nndg5CoWBo",
      "include_colab_link": true
    },
    "kernelspec": {
      "name": "python3",
      "display_name": "Python 3"
    },
    "language_info": {
      "name": "python"
    }
  },
  "cells": [
    {
      "cell_type": "markdown",
      "metadata": {
        "id": "view-in-github",
        "colab_type": "text"
      },
      "source": [
        "<a href=\"https://colab.research.google.com/github/won-hj/datastructure_algoritm/blob/main/%EC%9E%90%EB%A3%8C%EA%B5%AC%EC%A1%B0%EC%99%80_%EC%95%8C%EA%B3%A0%EB%A6%AC%EC%A6%98_with_%ED%8C%8C%EC%9D%B4%EC%8D%AC.ipynb\" target=\"_parent\"><img src=\"https://colab.research.google.com/assets/colab-badge.svg\" alt=\"Open In Colab\"/></a>"
      ]
    },
    {
      "cell_type": "markdown",
      "source": [
        "# 자료구조"
      ],
      "metadata": {
        "id": "5r76IRSERJFL"
      }
    },
    {
      "cell_type": "markdown",
      "source": [
        "#1장 스택\n",
        "\n",
        "* push(e)\n",
        "* pop()\n",
        "* isEmpty()\n",
        "* isFull()\n",
        "* peek()\n",
        "* size()\n"
      ],
      "metadata": {
        "id": "3olmz0VBRih7"
      }
    },
    {
      "cell_type": "markdown",
      "source": [
        "1.1 스택이란?\n",
        "\n",
        "quiz\n",
        "1. 10, 20, 30, 40, 50을 순서대로 스택에 넣었다가 3개의 요소를 삭제하였습니다. 스택에 남아 있는 것은 무엇있까요?\n",
        "\n",
        " -> 10, 20\n",
        "\n",
        "2. 그림 1.4(g)에서 몇 번의 push 연산을 처리하면 스택 오버플로가 발생할까요?\n",
        "\n",
        "  -> 4번\n",
        "\n",
        "3. 그림 1.4(g)에서 몇 번의 pop 연산을 처리하면 스택 언더플로가 발생할까요?\n",
        "\n",
        "  -> 3번\n",
        "\n",
        "4. 그림 1.4(g)에서 몇 번의 peek 연산을 처리하면 스택 언더플로가 발생할까요?\n",
        "\n",
        "  -> peek 연산은 스택 상태를 변경하지 않아 그림 1.4(g)의 상태에서는 스택 언더플로가 발생하지 않는다."
      ],
      "metadata": {
        "id": "85NQMZXmUjIH"
      }
    },
    {
      "cell_type": "markdown",
      "source": [
        "1.2 배열 구조로 스택 구현하기\n",
        "\n"
      ],
      "metadata": {
        "id": "yC_cpDt8UpQE"
      }
    },
    {
      "cell_type": "code",
      "source": [
        "capacity = 10\n",
        "array = [None]*capacity # 요소 배열: [None, ... , None]\n",
        "top = -1\n",
        "\n",
        "def isEmpty():\n",
        "  return top == -1\n",
        "\n",
        "def isFull():\n",
        "  return top == capacity\n",
        "\n",
        "def push(e):\n",
        "  if isFull():\n",
        "    print(\"스택이 가득 찼습니다.\")\n",
        "    return\n",
        "  array.append(e)\n",
        "  top += 1\n",
        "\n",
        "def pop():\n",
        "  if isEmpty():\n",
        "    print(\"스택이 비었습니다.\")\n",
        "    return\n",
        "  e = array[top]\n",
        "  array[top] = None\n",
        "  top -= 1\n",
        "  return e\n",
        "\n",
        "def peek():\n",
        "  if isEmpty():\n",
        "    print(\"스택이 비었습니다.\")\n",
        "    return\n",
        "  return array[top]"
      ],
      "metadata": {
        "id": "CiM77YMFRipo"
      },
      "execution_count": null,
      "outputs": []
    },
    {
      "cell_type": "markdown",
      "source": [
        "1.2 클래스로 스택 구현"
      ],
      "metadata": {
        "id": "0GABzplmW3Ak"
      }
    },
    {
      "cell_type": "code",
      "source": [
        "class stack:\n",
        "  def __init__(self):\n",
        "    self.array = []\n",
        "    self.top = -1\n",
        "\n",
        "  def isEmpty(self):\n",
        "    return self.top == -1\n",
        "\n",
        "  def isFull(self):\n",
        "    return self.top == len(self.array)\n",
        "\n",
        "  def push(self, e):\n",
        "    if self.isFull():\n",
        "      print(\"스택이 가득 찼습니다\")\n",
        "      return\n",
        "    self.array.append(e)\n",
        "    self.top += 1\n",
        "\n",
        "  def pop(self):\n",
        "    if self.isEmpty():\n",
        "      print(\"스택이 비었습니다\")\n",
        "      return\n",
        "    e = self.array[self.top]\n",
        "    #self.array[self.top] = None\n",
        "    del(self.array[self.top])\n",
        "    self.top -= 1\n",
        "    return e"
      ],
      "metadata": {
        "id": "AQUM8vulW8Jz"
      },
      "execution_count": null,
      "outputs": []
    },
    {
      "cell_type": "markdown",
      "source": [
        "* []가 없을 경우: s.push(e) for e in m은 문법 오류를 발생시킵니다. for 루프는 단독으로 사용될 수 없고, if, elif, else와 같은 제어 흐름문과 함께 사용되거나, 리스트 컴프리헨션, 제너레이터 표현식 등과 같은 구문 내에서 사용되어야 합니다. 즉, for 앞에 어떤 '컨테이너' 또는 '구문'이 있어야 하는데, 여기서는 그 역할을 []가 하는 것입니다.\n",
        "* []가 있을 경우: [s.push(e) for e in m]은 리스트 컴프리헨션으로 해석됩니다. 이 구문은 다음 과정을 거쳐 리스트를 생성합니다.\n",
        "  1. for e in m: 반복 가능한 객체 m을 순회합니다.\n",
        "  2. s.push(e): 각 항목 e에 대해 s.push(e)를 실행합니다.\n",
        "  3. []: s.push(e)의 결과값들을 모아 새로운 리스트를 생성합니다."
      ],
      "metadata": {
        "id": "ZyTMMNb6c9cq"
      }
    },
    {
      "cell_type": "code",
      "source": [
        "s = stack()\n",
        "m = input(\"문자열 입력: \")\n",
        "[s.push(e) for e in m]\n",
        "#print([s.push(e) for e in m]) # [s.push(e) for e in m]의 반환값은 None이다.(push의 반환값)\n",
        "\n",
        "print(f'{e}' for e in m)\n",
        "print(s.array)"
      ],
      "metadata": {
        "colab": {
          "base_uri": "https://localhost:8080/"
        },
        "id": "cwNxHO3jYl4M",
        "outputId": "be730234-054e-4c5e-b703-0f1176639915"
      },
      "execution_count": null,
      "outputs": [
        {
          "output_type": "stream",
          "name": "stdout",
          "text": [
            "문자열 입력: 123\n",
            "<generator object <genexpr> at 0x7fe8e9a1f990>\n",
            "['1', '2', '3']\n"
          ]
        }
      ]
    },
    {
      "cell_type": "code",
      "source": [
        "print(s.array[:])\n",
        "print(s.array[::-1]) #슬라이싱([::-1]): 새로운 리스트를 생성하여 반환합니다. 원본 리스트는 변경되지 않습니다.\n",
        "print(list(reversed(s.array))) #reversed() 함수: reversed iterator 객체를 반환합니다. list()를 사용하여 리스트로 변환해야 합니다. 원본 리스트는 변경되지 않습니다.\n",
        "s = s.array\n",
        "print(s.reverse()) # reverse() 메소드는 리스트의 요소들을 제자리에서 뒤집습니다. 즉, 새로운 리스트를 생성하는 것이 아니라, 원래 리스트의 순서를 직접 변경합니다."
      ],
      "metadata": {
        "colab": {
          "base_uri": "https://localhost:8080/"
        },
        "id": "eBlU0mGOdbLo",
        "outputId": "40e7613e-b50f-4304-8944-03e6dda5023d"
      },
      "execution_count": null,
      "outputs": [
        {
          "output_type": "stream",
          "name": "stdout",
          "text": [
            "['1', '2', '3']\n",
            "['3', '2', '1']\n",
            "['3', '2', '1']\n",
            "None\n"
          ]
        }
      ]
    },
    {
      "cell_type": "markdown",
      "source": [
        "1.3 스택의 응용"
      ],
      "metadata": {
        "id": "ju9TbOb3ipD4"
      }
    },
    {
      "cell_type": "code",
      "source": [
        "# 괄호 검사\n",
        "\n",
        "def checkBrackets(statement):\n",
        "  s = stack()\n",
        "  for ch in statement:\n",
        "    if ch in ('(', '{', \"[\"):\n",
        "      s.push(ch)\n",
        "      #print(f'push: {s.array}')\n",
        "    elif ch in {')', '}', ']'}:\n",
        "      pop = s.pop()\n",
        "      #print(f'pop: {pop}, ch: {ch}')\n",
        "      if ch == ')':\n",
        "        '''if pop != '(':\n",
        "          return False\n",
        "        else:\n",
        "          continue'''\n",
        "        if pop != '(':\n",
        "          return False\n",
        "        continue\n",
        "      elif ch == '}':\n",
        "        if pop != '{':\n",
        "          return False\n",
        "        else:\n",
        "          continue\n",
        "      elif ch == ']':\n",
        "        if pop != '[':\n",
        "          return False\n",
        "        else:\n",
        "          continue\n",
        "      else:\n",
        "        return False\n",
        "\n",
        "  #print(s.array\n",
        "  #return True if s.isEmpty() else False\n",
        "  return True\n",
        "print(checkBrackets(\"{(A+B)-[C*D]+}\"))\n",
        "print(checkBrackets(\"{(A+B)-[C*D)}\"))"
      ],
      "metadata": {
        "colab": {
          "base_uri": "https://localhost:8080/"
        },
        "id": "hnqx5q0oiq8A",
        "outputId": "15b93cd3-9b66-4162-986e-713a6fcb3a52"
      },
      "execution_count": null,
      "outputs": [
        {
          "output_type": "stream",
          "name": "stdout",
          "text": [
            "True\n",
            "False\n"
          ]
        }
      ]
    },
    {
      "cell_type": "code",
      "source": [
        "#checkBrackets\n",
        "def checkBrackets(statement):\n",
        "  s = stack()\n",
        "  for ch in statement:\n",
        "    if ch in ('(', '{', '['):\n",
        "      s.push(ch)\n",
        "    elif ch in (')', '}', ']'):\n",
        "      if s.isEmpty():\n",
        "        return False\n",
        "      else:\n",
        "        left = s.pop()\n",
        "        if (ch == ')' and left != '(') or (ch == '}' and left != '{') or (ch == ']' and left != '['):\n",
        "          return False\n",
        "  return True if s.isEmpty() else False\n",
        "\n",
        "print(checkBrackets(\"{(A+B)-[C*D]+}\"))\n",
        "print(checkBrackets(\"{(A+B)-[C*D)}\"))"
      ],
      "metadata": {
        "colab": {
          "base_uri": "https://localhost:8080/"
        },
        "id": "7ARZqVilmVmD",
        "outputId": "e0059979-26dc-47e0-e8cd-7343babe6ed1"
      },
      "execution_count": null,
      "outputs": [
        {
          "output_type": "stream",
          "name": "stdout",
          "text": [
            "False\n",
            "False\n"
          ]
        }
      ]
    },
    {
      "cell_type": "code",
      "source": [
        "# 팩토리얼\n",
        "def factorial(n):\n",
        "  #return factorial(n-1) * factorial(n-2) if n >= 2 else 1\n",
        "  return n * factorial(n-1) if n >=2 else 1\n",
        "#5\n",
        "# 4 3\n",
        "#3 2 2 1\n",
        "#2 1 1 1 1\n",
        "#1\n",
        "print(factorial(5))"
      ],
      "metadata": {
        "colab": {
          "base_uri": "https://localhost:8080/"
        },
        "id": "pLIWgbDJTE87",
        "outputId": "b2a074f2-2ed7-4162-e569-25af2cb40b5d"
      },
      "execution_count": null,
      "outputs": [
        {
          "output_type": "stream",
          "name": "stdout",
          "text": [
            "1\n"
          ]
        }
      ]
    },
    {
      "cell_type": "code",
      "source": [
        "# 피보나치 1 1 2 3 5 8 13\n",
        "def fibo(n):\n",
        "  return fibo(n-1) + fibo(n-2) if n >= 2 else n\n",
        "# 7 -> f6+f5\n",
        "# f6-> f5+f4, f5->f4+f3\n",
        "# f5-> f4+f3, f4-> f3+f2, f4-> f3+f2, f3->f2+f1\n",
        "# f4 -> f3+f2, f3-> f2+f1, f3-> f2+f1, f2->f1+f0, f3-> f2+f1, f2->f1+f0, f2->f1+f0, 1\n",
        "# f3-> f2+f1, f2->f1+f0, f2-> f1+f0, f1-> 1, f2->f1+f0, f1-> 1, f1-> 1, f0-> 0, f2->f1+f0, f1->1, f1->1, f0->0, f1->1, f0-> 0, 1\n",
        "# f2-> f1+f0, f1-> 1, f1-> 1, f1-> 1, 1, f1->1, 1, 1, f1->1, 1, 1, 1, 1\n",
        "# f1-> 1, 1,1,1,1,1,1,1,1,1,1,1,1\n",
        "print(fibo(6))"
      ],
      "metadata": {
        "colab": {
          "base_uri": "https://localhost:8080/"
        },
        "id": "iqVDOYqaUpS3",
        "outputId": "92473fe8-72dc-4154-8506-e13108aa4bbf"
      },
      "execution_count": null,
      "outputs": [
        {
          "output_type": "stream",
          "name": "stdout",
          "text": [
            "8\n"
          ]
        }
      ]
    },
    {
      "cell_type": "code",
      "source": [
        "# 하노이탑\n",
        "\n",
        "#원판개수, 처음막대, 임시막대, 목표막대\n",
        "def hanoi_tower(n, fr, tmp, to):\n",
        "  if n == 1:\n",
        "    print(f'원판 1을 {fr}에서 {to}로 이동')\n",
        "    return\n",
        "  else:\n",
        "    hanoi_tower(n-1, fr, to, tmp)\n",
        "    print(f'원판 {n}을 {fr}에서 {to}로 이동')\n",
        "    hanoi_tower(n-1, tmp, fr, to)\n",
        "\n",
        "hanoi_tower(3, 'A', 'B', 'C')"
      ],
      "metadata": {
        "colab": {
          "base_uri": "https://localhost:8080/"
        },
        "id": "73G2pFSqbKhK",
        "outputId": "8483d2d6-bad9-447e-d768-8a74c051c8bf"
      },
      "execution_count": null,
      "outputs": [
        {
          "output_type": "stream",
          "name": "stdout",
          "text": [
            "원판 1을 A에서 C로 이동\n",
            "원판 2을 A에서 B로 이동\n",
            "원판 1을 C에서 B로 이동\n",
            "원판 3을 A에서 C로 이동\n",
            "원판 1을 B에서 A로 이동\n",
            "원판 2을 B에서 C로 이동\n",
            "원판 1을 A에서 C로 이동\n"
          ]
        }
      ]
    },
    {
      "cell_type": "code",
      "source": [
        "# 자료구조 -> 조구료자\n",
        "def printReverse(msg, len):\n",
        "  if len == 0:\n",
        "    return\n",
        "  else:\n",
        "    print(msg[len-1], len-1)\n",
        "    printReverse(msg, len-1)\n",
        "# 입력: 자료구조, 4\n",
        "# 조 3\n",
        "# 구 2\n",
        "# 료 1\n",
        "# 자 0\n",
        "\n",
        "instr = '자료구조'\n",
        "printReverse(instr, len(instr))"
      ],
      "metadata": {
        "colab": {
          "base_uri": "https://localhost:8080/"
        },
        "id": "NKSY5eJSkdg0",
        "outputId": "2fbbe048-c158-4e2f-c186-de55623dc5b8"
      },
      "execution_count": null,
      "outputs": [
        {
          "output_type": "stream",
          "name": "stdout",
          "text": [
            "조 3\n",
            "구 2\n",
            "료 1\n",
            "자 0\n"
          ]
        }
      ]
    },
    {
      "cell_type": "markdown",
      "source": [],
      "metadata": {
        "id": "wkOiIoh_TEmq"
      }
    },
    {
      "cell_type": "markdown",
      "source": [],
      "metadata": {
        "id": "sZT1M3MaTAIH"
      }
    },
    {
      "cell_type": "markdown",
      "source": [
        "# 알고리즘"
      ],
      "metadata": {
        "id": "v4bluyI4RRMI"
      }
    }
  ]
}