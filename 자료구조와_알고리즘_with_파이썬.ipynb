{
  "nbformat": 4,
  "nbformat_minor": 0,
  "metadata": {
    "colab": {
      "provenance": [],
      "authorship_tag": "ABX9TyNbtlw9xRzQ251Np7zuwUx/",
      "include_colab_link": true
    },
    "kernelspec": {
      "name": "python3",
      "display_name": "Python 3"
    },
    "language_info": {
      "name": "python"
    }
  },
  "cells": [
    {
      "cell_type": "markdown",
      "metadata": {
        "id": "view-in-github",
        "colab_type": "text"
      },
      "source": [
        "<a href=\"https://colab.research.google.com/github/won-hj/datastructure_algoritm/blob/main/%EC%9E%90%EB%A3%8C%EA%B5%AC%EC%A1%B0%EC%99%80_%EC%95%8C%EA%B3%A0%EB%A6%AC%EC%A6%98_with_%ED%8C%8C%EC%9D%B4%EC%8D%AC.ipynb\" target=\"_parent\"><img src=\"https://colab.research.google.com/assets/colab-badge.svg\" alt=\"Open In Colab\"/></a>"
      ]
    },
    {
      "cell_type": "markdown",
      "source": [
        "# 자료구조"
      ],
      "metadata": {
        "id": "5r76IRSERJFL"
      }
    },
    {
      "cell_type": "markdown",
      "source": [
        "#1장 스택\n",
        "\n",
        "* push(e)\n",
        "* pop()\n",
        "* isEmpty()\n",
        "* isFull()\n",
        "* peek()\n",
        "* size()\n"
      ],
      "metadata": {
        "id": "3olmz0VBRih7"
      }
    },
    {
      "cell_type": "markdown",
      "source": [
        "1.1 스택이란?\n",
        "\n",
        "quiz\n",
        "1. 10, 20, 30, 40, 50을 순서대로 스택에 넣었다가 3개의 요소를 삭제하였습니다. 스택에 남아 있는 것은 무엇있까요?\n",
        "\n",
        " -> 10, 20\n",
        "\n",
        "2. 그림 1.4(g)에서 몇 번의 push 연산을 처리하면 스택 오버플로가 발생할까요?\n",
        "\n",
        "  -> 4번\n",
        "\n",
        "3. 그림 1.4(g)에서 몇 번의 pop 연산을 처리하면 스택 언더플로가 발생할까요?\n",
        "\n",
        "  -> 3번\n",
        "\n",
        "4. 그림 1.4(g)에서 몇 번의 peek 연산을 처리하면 스택 언더플로가 발생할까요?\n",
        "\n",
        "  -> peek 연산은 스택 상태를 변경하지 않아 그림 1.4(g)의 상태에서는 스택 언더플로가 발생하지 않는다."
      ],
      "metadata": {
        "id": "85NQMZXmUjIH"
      }
    },
    {
      "cell_type": "markdown",
      "source": [
        "1.2 배열 구조로 스택 구현하기\n",
        "\n"
      ],
      "metadata": {
        "id": "yC_cpDt8UpQE"
      }
    },
    {
      "cell_type": "code",
      "source": [
        "capacity = 10\n",
        "array = [None]*capacity # 요소 배열: [None, ... , None]\n",
        "top = -1\n",
        "\n",
        "def isEmpty():\n",
        "  return top == -1\n",
        "\n",
        "def isFull():\n",
        "  return top == capacity\n",
        "\n",
        "def push(e):\n",
        "  if isFull():\n",
        "    print(\"스택이 가득 찼습니다.\")\n",
        "    return\n",
        "  array.append(e)\n",
        "  top += 1\n",
        "\n",
        "def pop():\n",
        "  if isEmpty():\n",
        "    print(\"스택이 비었습니다.\")\n",
        "    return\n",
        "  e = array[top]\n",
        "  array[top] = None\n",
        "  top -= 1\n",
        "  return e\n",
        "\n",
        "def peek():\n",
        "  if isEmpty():\n",
        "    print(\"스택이 비었습니다.\")\n",
        "    return\n",
        "  return array[top]"
      ],
      "metadata": {
        "id": "CiM77YMFRipo"
      },
      "execution_count": null,
      "outputs": []
    },
    {
      "cell_type": "markdown",
      "source": [
        "1.2 클래스로 스택 구현"
      ],
      "metadata": {
        "id": "0GABzplmW3Ak"
      }
    },
    {
      "cell_type": "code",
      "source": [
        "class stack:\n",
        "  def __init__(self):\n",
        "    self.array = []\n",
        "    self.top = -1\n",
        "\n",
        "  def isEmpty(self):\n",
        "    return self.top == -1\n",
        "\n",
        "  def isFull(self):\n",
        "    return self.top == len(self.array)\n",
        "\n",
        "  def push(self, e):\n",
        "    if self.isFull():\n",
        "      print(\"스택이 가득 찼습니다\")\n",
        "      return\n",
        "    self.array.append(e)\n",
        "    self.top += 1\n",
        "\n",
        "  def pop(self):\n",
        "    if self.isEmpty():\n",
        "      print(\"스택이 비었습니다\")\n",
        "      return\n",
        "    e = self.array[self.top]\n",
        "    #self.array[self.top] = None\n",
        "    del(self.array[self.top])\n",
        "    self.top -= 1\n",
        "    return e"
      ],
      "metadata": {
        "id": "AQUM8vulW8Jz"
      },
      "execution_count": null,
      "outputs": []
    },
    {
      "cell_type": "markdown",
      "source": [
        "* []가 없을 경우: s.push(e) for e in m은 문법 오류를 발생시킵니다. for 루프는 단독으로 사용될 수 없고, if, elif, else와 같은 제어 흐름문과 함께 사용되거나, 리스트 컴프리헨션, 제너레이터 표현식 등과 같은 구문 내에서 사용되어야 합니다. 즉, for 앞에 어떤 '컨테이너' 또는 '구문'이 있어야 하는데, 여기서는 그 역할을 []가 하는 것입니다.\n",
        "* []가 있을 경우: [s.push(e) for e in m]은 리스트 컴프리헨션으로 해석됩니다. 이 구문은 다음 과정을 거쳐 리스트를 생성합니다.\n",
        "  1. for e in m: 반복 가능한 객체 m을 순회합니다.\n",
        "  2. s.push(e): 각 항목 e에 대해 s.push(e)를 실행합니다.\n",
        "  3. []: s.push(e)의 결과값들을 모아 새로운 리스트를 생성합니다."
      ],
      "metadata": {
        "id": "ZyTMMNb6c9cq"
      }
    },
    {
      "cell_type": "code",
      "source": [
        "s = stack()\n",
        "m = input(\"문자열 입력: \")\n",
        "[s.push(e) for e in m]\n",
        "#print([s.push(e) for e in m]) # [s.push(e) for e in m]의 반환값은 None이다.(push의 반환값)\n",
        "\n",
        "print(f'{e}' for e in m)\n",
        "print(s.array)"
      ],
      "metadata": {
        "colab": {
          "base_uri": "https://localhost:8080/"
        },
        "id": "cwNxHO3jYl4M",
        "outputId": "be730234-054e-4c5e-b703-0f1176639915"
      },
      "execution_count": null,
      "outputs": [
        {
          "output_type": "stream",
          "name": "stdout",
          "text": [
            "문자열 입력: 123\n",
            "<generator object <genexpr> at 0x7fe8e9a1f990>\n",
            "['1', '2', '3']\n"
          ]
        }
      ]
    },
    {
      "cell_type": "code",
      "source": [
        "print(s.array[:])\n",
        "print(s.array[::-1]) #슬라이싱([::-1]): 새로운 리스트를 생성하여 반환합니다. 원본 리스트는 변경되지 않습니다.\n",
        "print(list(reversed(s.array))) #reversed() 함수: reversed iterator 객체를 반환합니다. list()를 사용하여 리스트로 변환해야 합니다. 원본 리스트는 변경되지 않습니다.\n",
        "s = s.array\n",
        "print(s.reverse()) # reverse() 메소드는 리스트의 요소들을 제자리에서 뒤집습니다. 즉, 새로운 리스트를 생성하는 것이 아니라, 원래 리스트의 순서를 직접 변경합니다."
      ],
      "metadata": {
        "colab": {
          "base_uri": "https://localhost:8080/"
        },
        "id": "eBlU0mGOdbLo",
        "outputId": "40e7613e-b50f-4304-8944-03e6dda5023d"
      },
      "execution_count": null,
      "outputs": [
        {
          "output_type": "stream",
          "name": "stdout",
          "text": [
            "['1', '2', '3']\n",
            "['3', '2', '1']\n",
            "['3', '2', '1']\n",
            "None\n"
          ]
        }
      ]
    },
    {
      "cell_type": "markdown",
      "source": [
        "1.3 스택의 응용"
      ],
      "metadata": {
        "id": "ju9TbOb3ipD4"
      }
    },
    {
      "cell_type": "code",
      "source": [
        "# 괄호 검사\n",
        "\n",
        "def checkBrackets(statement):\n",
        "  s = stack()\n",
        "  for ch in statement:\n",
        "    if ch in ('(', '{', \"[\"):\n",
        "      s.push(ch)\n",
        "      #print(f'push: {s.array}')\n",
        "    elif ch in {')', '}', ']'}:\n",
        "      pop = s.pop()\n",
        "      #print(f'pop: {pop}, ch: {ch}')\n",
        "      if ch == ')':\n",
        "        '''if pop != '(':\n",
        "          return False\n",
        "        else:\n",
        "          continue'''\n",
        "        if pop != '(':\n",
        "          return False\n",
        "        continue\n",
        "      elif ch == '}':\n",
        "        if pop != '{':\n",
        "          return False\n",
        "        else:\n",
        "          continue\n",
        "      elif ch == ']':\n",
        "        if pop != '[':\n",
        "          return False\n",
        "        else:\n",
        "          continue\n",
        "      else:\n",
        "        return False\n",
        "\n",
        "  #print(s.array\n",
        "  #return True if s.isEmpty() else False\n",
        "  return True\n",
        "print(checkBrackets(\"{(A+B)-[C*D]+}\"))\n",
        "print(checkBrackets(\"{(A+B)-[C*D)}\"))"
      ],
      "metadata": {
        "colab": {
          "base_uri": "https://localhost:8080/"
        },
        "id": "hnqx5q0oiq8A",
        "outputId": "15b93cd3-9b66-4162-986e-713a6fcb3a52"
      },
      "execution_count": null,
      "outputs": [
        {
          "output_type": "stream",
          "name": "stdout",
          "text": [
            "True\n",
            "False\n"
          ]
        }
      ]
    },
    {
      "cell_type": "code",
      "source": [
        "#checkBrackets\n",
        "def checkBrackets(statement):\n",
        "  s = stack()\n",
        "  for ch in statement:\n",
        "    if ch in ('(', '{', '['):\n",
        "      s.push(ch)\n",
        "    elif ch in (')', '}', ']'):\n",
        "      if s.isEmpty():\n",
        "        return False\n",
        "      else:\n",
        "        left = s.pop()\n",
        "        if (ch == ')' and left != '(') or (ch == '}' and left != '{') or (ch == ']' and left != '['):\n",
        "          return False\n",
        "  return True if s.isEmpty() else False\n",
        "\n",
        "print(checkBrackets(\"{(A+B)-[C*D]+}\"))\n",
        "print(checkBrackets(\"{(A+B)-[C*D)}\"))"
      ],
      "metadata": {
        "colab": {
          "base_uri": "https://localhost:8080/"
        },
        "id": "7ARZqVilmVmD",
        "outputId": "e0059979-26dc-47e0-e8cd-7343babe6ed1"
      },
      "execution_count": null,
      "outputs": [
        {
          "output_type": "stream",
          "name": "stdout",
          "text": [
            "False\n",
            "False\n"
          ]
        }
      ]
    },
    {
      "cell_type": "code",
      "source": [
        "# 팩토리얼\n",
        "def factorial(n):\n",
        "  #return factorial(n-1) * factorial(n-2) if n >= 2 else 1\n",
        "  return n * factorial(n-1) if n >=2 else 1\n",
        "#5\n",
        "# 4 3\n",
        "#3 2 2 1\n",
        "#2 1 1 1 1\n",
        "#1\n",
        "print(factorial(5))"
      ],
      "metadata": {
        "colab": {
          "base_uri": "https://localhost:8080/"
        },
        "id": "pLIWgbDJTE87",
        "outputId": "b2a074f2-2ed7-4162-e569-25af2cb40b5d"
      },
      "execution_count": null,
      "outputs": [
        {
          "output_type": "stream",
          "name": "stdout",
          "text": [
            "1\n"
          ]
        }
      ]
    },
    {
      "cell_type": "code",
      "source": [
        "# 피보나치 1 1 2 3 5 8 13\n",
        "def fibo(n):\n",
        "  return fibo(n-1) + fibo(n-2) if n >= 2 else n\n",
        "# 7 -> f6+f5\n",
        "# f6-> f5+f4, f5->f4+f3\n",
        "# f5-> f4+f3, f4-> f3+f2, f4-> f3+f2, f3->f2+f1\n",
        "# f4 -> f3+f2, f3-> f2+f1, f3-> f2+f1, f2->f1+f0, f3-> f2+f1, f2->f1+f0, f2->f1+f0, 1\n",
        "# f3-> f2+f1, f2->f1+f0, f2-> f1+f0, f1-> 1, f2->f1+f0, f1-> 1, f1-> 1, f0-> 0, f2->f1+f0, f1->1, f1->1, f0->0, f1->1, f0-> 0, 1\n",
        "# f2-> f1+f0, f1-> 1, f1-> 1, f1-> 1, 1, f1->1, 1, 1, f1->1, 1, 1, 1, 1\n",
        "# f1-> 1, 1,1,1,1,1,1,1,1,1,1,1,1\n",
        "print(fibo(6))"
      ],
      "metadata": {
        "colab": {
          "base_uri": "https://localhost:8080/"
        },
        "id": "iqVDOYqaUpS3",
        "outputId": "92473fe8-72dc-4154-8506-e13108aa4bbf"
      },
      "execution_count": null,
      "outputs": [
        {
          "output_type": "stream",
          "name": "stdout",
          "text": [
            "8\n"
          ]
        }
      ]
    },
    {
      "cell_type": "code",
      "source": [
        "# 하노이탑\n",
        "\n",
        "#원판개수, 처음막대, 임시막대, 목표막대\n",
        "def hanoi_tower(n, fr, tmp, to):\n",
        "  if n == 1:\n",
        "    print(f'원판 1을 {fr}에서 {to}로 이동')\n",
        "    return\n",
        "  else:\n",
        "    hanoi_tower(n-1, fr, to, tmp)\n",
        "    print(f'원판 {n}을 {fr}에서 {to}로 이동')\n",
        "    hanoi_tower(n-1, tmp, fr, to)\n",
        "\n",
        "hanoi_tower(3, 'A', 'B', 'C')"
      ],
      "metadata": {
        "colab": {
          "base_uri": "https://localhost:8080/"
        },
        "id": "73G2pFSqbKhK",
        "outputId": "8483d2d6-bad9-447e-d768-8a74c051c8bf"
      },
      "execution_count": null,
      "outputs": [
        {
          "output_type": "stream",
          "name": "stdout",
          "text": [
            "원판 1을 A에서 C로 이동\n",
            "원판 2을 A에서 B로 이동\n",
            "원판 1을 C에서 B로 이동\n",
            "원판 3을 A에서 C로 이동\n",
            "원판 1을 B에서 A로 이동\n",
            "원판 2을 B에서 C로 이동\n",
            "원판 1을 A에서 C로 이동\n"
          ]
        }
      ]
    },
    {
      "cell_type": "code",
      "source": [
        "# 자료구조 -> 조구료자\n",
        "def printReverse(msg, len):\n",
        "  if len == 0:\n",
        "    return\n",
        "  else:\n",
        "    print(msg[len-1], len-1)\n",
        "    printReverse(msg, len-1)\n",
        "# 입력: 자료구조, 4\n",
        "# 조 3\n",
        "# 구 2\n",
        "# 료 1\n",
        "# 자 0\n",
        "\n",
        "instr = '자료구조'\n",
        "printReverse(instr, len(instr))"
      ],
      "metadata": {
        "colab": {
          "base_uri": "https://localhost:8080/"
        },
        "id": "NKSY5eJSkdg0",
        "outputId": "2fbbe048-c158-4e2f-c186-de55623dc5b8"
      },
      "execution_count": null,
      "outputs": [
        {
          "output_type": "stream",
          "name": "stdout",
          "text": [
            "조 3\n",
            "구 2\n",
            "료 1\n",
            "자 0\n"
          ]
        }
      ]
    },
    {
      "cell_type": "markdown",
      "source": [
        "# 2장 큐\n",
        "\n",
        "* enqueue(e)\n",
        "* dequeue()\n",
        "* isEmpty()\n",
        "* isFull()\n",
        "* peek()\n",
        "* size()"
      ],
      "metadata": {
        "id": "wkOiIoh_TEmq"
      }
    },
    {
      "cell_type": "markdown",
      "source": [
        "2.1 큐란?"
      ],
      "metadata": {
        "id": "CFV7v5zF6-XQ"
      }
    },
    {
      "cell_type": "markdown",
      "source": [
        "2.2 배열로 구현하는 큐\n",
        "\n",
        "* array[] : 큐 요소들을 저장할 배열\n",
        "* capacity : 큐에 저장할 수 있는 요소의 최대 개수\n",
        "* rear : 맨 마지막 요소의 위치(인덱스)\n",
        "* front : 첫 번째 요소 바로 이전의 위치\n",
        "\n",
        "\n",
        "-- 원형큐\n",
        "\n",
        "  * 전단 회전 : front <- (front+1)%capacity\n",
        "  * 후단 회전 : rear <- (rear+1)%capacity"
      ],
      "metadata": {
        "id": "6D-zvn_X7Bv7"
      }
    },
    {
      "cell_type": "code",
      "source": [
        "# 원형 큐: 클래스 정의와 생성자\n",
        "\n",
        "class circular_queue:\n",
        "  def __init__(self, capacity):\n",
        "    self.array = [None]*capacity\n",
        "    self.capacity = capacity # 용량 고정\n",
        "    self.front = 0\n",
        "    self.rear = 0\n",
        "\n",
        "  def isEmpty(self):\n",
        "    return self.front == self.rear\n",
        "\n",
        "  def isFull(self):\n",
        "    return self.front == (self.rear+1)%self.capacity # 하나의 자리를 비워 포화 상태와 공백 상태 구분\n",
        "\n",
        "  #rear를 먼저 시계 방향으로 한 칸 회전시키고, 그 위치에 새로운 요소 e를 복사한다.\n",
        "  def enqueue(self, item):\n",
        "    if self.isFull():\n",
        "      print(\"큐가 가득 찼습니다.\")\n",
        "      return\n",
        "    self.array[self.rear] = item\n",
        "    self.rear = (self.rear+1)%self.capacity\n",
        "\n",
        "  # front를 시계 방향으로 한 칸 회전시키고 그 위치에 요소를 반환; front->맨 앞의 인덱스\n",
        "  def dequeue(self):\n",
        "    if self.isEmpty():\n",
        "      print(\"큐가 비었습니다.\")\n",
        "      return\n",
        "    e = self.array[self.front]\n",
        "    self.array[self.front] = None\n",
        "    self.front = (self.front+1)%self.capacity\n",
        "    return e\n",
        "\n",
        "  def peek(self):\n",
        "    if self.isEmpty():\n",
        "      print(\"큐가 비었습니다.\")\n",
        "      return\n",
        "    return self.array[self.front]\n",
        "\n",
        "  # rear-front가 음수일 경우 추가 용량을 더해 양수로 만든다.\n",
        "  def size(self):\n",
        "    return (rear-front+capacity)%capacity\n",
        "\n",
        "  def display(self): #display(self, msg)\n",
        "    '''\n",
        "    print(msg, end='= [')\n",
        "    for i in range(self.front+1, self.front+1+self.size()):\n",
        "      print(self.array[i%self.capacity], end=' ')\n",
        "    print(\"]\")\n",
        "\n",
        "    '''\n",
        "\n",
        "    print(self.array)\n",
        "    print(f'front: {self.front}, rear: {self.rear}')\n"
      ],
      "metadata": {
        "id": "ddIbV7Ig69xz"
      },
      "execution_count": null,
      "outputs": []
    },
    {
      "cell_type": "code",
      "source": [
        "# 원형 큐: 테스트 프로그램\n",
        "import random\n",
        "\n",
        "q = circular_queue(8)\n",
        "q.display(\"초기 상태\")\n",
        "while not q.isFull():\n",
        "  q.enqueue(random.randint(0, 100))\n",
        "q.display(\"포화 상태\")\n",
        "\n",
        "print('삭제 순서: ', end='')\n",
        "while not q.isEmpty():\n",
        "  print(q.dequeue(), end=' ')\n",
        "print()"
      ],
      "metadata": {
        "id": "hMGG0BM667Jx"
      },
      "execution_count": null,
      "outputs": []
    },
    {
      "cell_type": "code",
      "source": [
        "# 원형 큐를 버퍼로 사용하기\n",
        "\n",
        "# 일단 삽입 후 조정\n",
        "def enqueue2(self, item):\n",
        "  self.rear = (rear+1)%capacity\n",
        "  self.array[rear] = item\n",
        "  if isEmpty(): # rear == front\n",
        "    self.front = (front+1)%capacity\n",
        "\n",
        "# 링 버퍼의 테스트 프로그램\n",
        "q = circular_queue(8)\n",
        "q.display(\"초기 상태\")\n",
        "q.enqueue2(i) for i in range(8-2)\n",
        "q.display(\"삽입 0-5\")\n",
        "\n",
        "q.enqueue2(8-2): q.enqueue2(8-1)\n",
        "q.display('삽입 6, 7')\n",
        "\n",
        "q.enqueue2(8): q.enqueue2(8+1)\n",
        "q.display(\"삽입 8, 9\")\n",
        "\n",
        "q.dequeue(): q.dequeue()\n",
        "q.display(\"삭제*2\")"
      ],
      "metadata": {
        "id": "gN2ohWCHH54q"
      },
      "execution_count": null,
      "outputs": []
    },
    {
      "cell_type": "markdown",
      "source": [
        "2.3 덱이란?\n",
        "\n",
        "* addFront(e)\n",
        "* addRear(e)\n",
        "* deleteFront()\n",
        "* deleteRear()\n",
        "* getFront()\n",
        "* getRear()\n",
        "* isEmpty()\n",
        "* isFull()\n",
        "* size()\n",
        "\n",
        "-- 전단 회전 : front<-(front+1)%capacity\n",
        "-- 후단 회전 : rear<-(rear-1)%capacity"
      ],
      "metadata": {
        "id": "sZT1M3MaTAIH"
      }
    },
    {
      "cell_type": "code",
      "source": [
        "# 큐 상속 클래스\n",
        "class circular_dequeue(circular_queue):\n",
        "  def __init__(self, capacity):\n",
        "    super().__init__(capacity)\n",
        "\n",
        "  def addFront(self, item):\n",
        "    if self.isFull():\n",
        "      print(\"큐가 가득 찼습니다.\")\n",
        "      return\n",
        "    self.front = (self.front-1)%self.capacity\n",
        "    self.array[self.front] = item\n",
        "  def addRear(self, item): self.enqueue(item)\n",
        "  def deleteFront(self): self.dequeue()\n",
        "  def deleteRear(self):\n",
        "    if self.isEmpty():\n",
        "      print('큐가 비었습니다.')\n",
        "      return\n",
        "    self.rear = (self.rear-1)%self.capacity\n",
        "    e = self.array[self.rear]\n",
        "    self.array[self.rear] = None\n",
        "    return e\n",
        "  def getFront(self): self.peek()\n",
        "  def getRear(self):\n",
        "    if self.isEmpty():\n",
        "      print('큐가 비었습니다.')\n",
        "      return\n",
        "    return self.array[(self.rear-1)%self.capacity]"
      ],
      "metadata": {
        "colab": {
          "base_uri": "https://localhost:8080/",
          "height": 106
        },
        "id": "bgwfLtlyQLtF",
        "outputId": "04d1d5bc-ba60-4dab-d224-2248e603dc85"
      },
      "execution_count": null,
      "outputs": [
        {
          "output_type": "error",
          "ename": "IndentationError",
          "evalue": "expected an indented block after 'if' statement on line 7 (<ipython-input-2-c008cb362d17>, line 8)",
          "traceback": [
            "\u001b[0;36m  File \u001b[0;32m\"<ipython-input-2-c008cb362d17>\"\u001b[0;36m, line \u001b[0;32m8\u001b[0m\n\u001b[0;31m    def addRear(self, item): self.enqueue(item)\u001b[0m\n\u001b[0m    ^\u001b[0m\n\u001b[0;31mIndentationError\u001b[0m\u001b[0;31m:\u001b[0m expected an indented block after 'if' statement on line 7\n"
          ]
        }
      ]
    },
    {
      "cell_type": "code",
      "source": [
        "# 원혁 덱의 테스트 프로그램\n",
        "dq = circular_dequeue(10)\n",
        "for i in range(9):\n",
        "  if i%2 == 0: dq.addRear(i)\n",
        "  else: dq.addFront(i)\n",
        "dq.display(\"홀수는 앞에 짝수는 뒤에 삽입\")\n",
        "\n",
        "for i in range(2): dq.deleteFront()\n",
        "for i in range(3): dq.deleteRear()\n",
        "dq.display(\"앞단 2개 후단 3개 삭제\")"
      ],
      "metadata": {
        "id": "eZGRhpu3R509"
      },
      "execution_count": null,
      "outputs": []
    },
    {
      "cell_type": "code",
      "source": [
        "# 큐 모듈 사용\n",
        "import queue\n",
        "#maxsize=0:무제한용량, peek() 제공 안함\n",
        "#put()/get()\n",
        "#empty()/full()\n",
        "q = queue.Queue(maxsize=20)"
      ],
      "metadata": {
        "id": "uYNW5xHDSaoA"
      },
      "execution_count": null,
      "outputs": []
    },
    {
      "cell_type": "code",
      "source": [
        "# queue 모듈의 queue 테스트\n",
        "import queue, random\n",
        "\n",
        "q = queue.Queue(8)\n",
        "\n",
        "print('삽입 순서: ', end='')\n",
        "while not q.full():\n",
        "  v = random.randint(0, 100)\n",
        "  q.put(v)\n",
        "  print(v, end=' ')\n",
        "print()\n",
        "\n",
        "print('삭제 순서: ', end='')\n",
        "while not q.empty():\n",
        "  print(q.get(), end=' ')\n",
        "print()"
      ],
      "metadata": {
        "colab": {
          "base_uri": "https://localhost:8080/"
        },
        "id": "Qahz9-mgS211",
        "outputId": "18c2808a-30cd-4b26-a098-7aa5547487f1"
      },
      "execution_count": null,
      "outputs": [
        {
          "output_type": "stream",
          "name": "stdout",
          "text": [
            "삽입 순서: 27 11 51 51 70 100 11 89 \n",
            "삭제 순서: 27 11 51 51 70 100 11 89 \n"
          ]
        }
      ]
    },
    {
      "cell_type": "markdown",
      "source": [
        "-- collections.deque\n",
        "* 전방 삽입\n",
        "  \n",
        "  - appendleft(), popleft()\n",
        "* 후방 삽입\n",
        "  * append(), pop()\n",
        "* 공백 상태\n",
        "  * dq\n",
        "* 포화상태, peek(), get()\n",
        "  * 제공안함"
      ],
      "metadata": {
        "id": "jyqz7HpzT0iS"
      }
    },
    {
      "cell_type": "code",
      "source": [
        "# collection 모듈의 deque 클래스 사용\n",
        "import collections as c\n",
        "\n",
        "dq = c.deque()\n",
        "\n",
        "print('덱은 공백 상태가 아님' if dq else '덱은 공백 상태임')\n",
        "[dq.append(i) if i % 2 == 0 else dq.appendleft(i) for i in range(9)]\n",
        "print('홀수는 전단 짝수는 후단 삽입', dq)\n",
        "\n",
        "for i in range(2): dq.popleft()\n",
        "for i in range(3): dq.pop()\n",
        "print('전단 두번 후단 세번 삭제', dq)\n",
        "\n",
        "[dq.appendleft(i) for i in range(9, 14)]\n",
        "print('전단에 9~1 삽입 ', dq)\n",
        "\n",
        "print('공백 상태 아님' if dq else '공백 상태')"
      ],
      "metadata": {
        "colab": {
          "base_uri": "https://localhost:8080/"
        },
        "id": "L7bPqE4NTdKb",
        "outputId": "85504759-b084-423e-e737-d8ef22dccab2"
      },
      "execution_count": null,
      "outputs": [
        {
          "output_type": "stream",
          "name": "stdout",
          "text": [
            "덱은 공백 상태임\n",
            "홀수는 전단 짝수는 후단 삽입 deque([7, 5, 3, 1, 0, 2, 4, 6, 8])\n",
            "전단 두번 후단 세번 삭제 deque([3, 1, 0, 2])\n",
            "전단에 9~1 삽입  deque([13, 12, 11, 10, 9, 3, 1, 0, 2])\n",
            "공백 상태 아님\n"
          ]
        }
      ]
    },
    {
      "cell_type": "code",
      "source": [
        "import queue\n",
        "\n",
        "#n = list(map(int, input().split()))\n",
        "n = int(input())\n",
        "q = queue.Queue()\n",
        "\n",
        "q.put(0)\n",
        "q.put(1)\n",
        "\n",
        "for i in range(n):\n",
        "  v1 = q.get()\n",
        "  v2 = q.get()\n",
        "  q.put(v2)\n",
        "  q.put(v1+v2)\n",
        "\n",
        "print(f'결과 : {q.get()}')"
      ],
      "metadata": {
        "colab": {
          "base_uri": "https://localhost:8080/"
        },
        "id": "AljhAsPpXjVC",
        "outputId": "fc1ef7ca-748a-4090-d41a-af99bc39c451"
      },
      "execution_count": null,
      "outputs": [
        {
          "output_type": "stream",
          "name": "stdout",
          "text": [
            "10\n",
            "결과 : 55\n"
          ]
        }
      ]
    },
    {
      "cell_type": "markdown",
      "source": [
        "# 3장 연결리스트\n",
        "\n",
        "* insert(pos, e)\n",
        "* delete(pos)\n",
        "* getEntry(pos)\n",
        "* isEmpty()\n",
        "* isFull()\n",
        "* size\n",
        "\n",
        "* append(e)\n",
        "* extend(lst)\n",
        "* count(e)\n",
        "* index(e, [시작], [종료])\n",
        "* insert(pos, e)\n",
        "* pop(pos)\n",
        "* pop()\n",
        "* remove(e)\n",
        "* reverse()\n",
        "* sort([key], [reverse])"
      ],
      "metadata": {
        "id": "Svz0T9sAus6L"
      }
    },
    {
      "cell_type": "code",
      "source": [
        "class Node:\n",
        "  if __init__(self, elem, link=None):\n",
        "    self.data = elem\n",
        "    self.link = link\n",
        "\n",
        "  def append(self, node):\n",
        "    #if node is not None:\n",
        "    if node:\n",
        "      node.link = self.link\n",
        "      self.link = node\n",
        "\n",
        "  def popNext(self):\n",
        "    next = self.link\n",
        "    if next:\n",
        "      self.link = next.link\n",
        "    return next\n",
        "\n",
        "\n",
        "class LinkedList:\n",
        "  def __init__(self):\n",
        "    self.head = None\n",
        "    #self.size = 0\n",
        "\n",
        "  def isEmpty(self): return self.head == None #self.size == 0\n",
        "  def isFull(self): return False\n",
        "  def size(self): return self.size\n",
        "\n",
        "  def getNode(self, pos):\n",
        "    if pos < 0: return None\n",
        "    ptr = self.head\n",
        "    [ptr = tpr.link if ptr is not None else return None for _ in range(pos)]\n",
        "    return ptr\n",
        "\n",
        "  def getEntry(self, pos):\n",
        "    node = self.getNode(pos)\n",
        "    if node is None : return None\n",
        "    return node.data\n",
        "\n",
        "  def insert(self, pos, e):\n",
        "    node = Node(e, Node)\n",
        "    before = self.getNode(pos-1)\n",
        "    if before == None:\n",
        "      node.link = self.head\n",
        "      self.head = node\n",
        "    else: before.append(node)\n",
        "\n",
        "  def delete(self, pos):\n",
        "    before = self.getNode(pos-1)\n",
        "    if before == None:\n",
        "      before = self.head\n",
        "      if self.head is not None:\n",
        "        self.head = self.head.link\n",
        "      return before\n",
        "    else: return before.popNext()\n",
        "\n",
        "  def size(self):\n",
        "    ptr = self.head\n",
        "    count = 0\n",
        "    while ptr:\n",
        "      ptr = ptr.link\n",
        "      count += 1\n",
        "    return count\n",
        "\n",
        "  def display(self, msg='LinkedList: '):\n",
        "    print(msg, end='')\n",
        "    ptr = self.head\n",
        "    while ptr:\n",
        "      print(ptr.data, end=' ')\n",
        "      ptr = ptr.link\n",
        "    print('None')\n",
        "\n",
        "\n",
        "class DNode:\n",
        "  def __init__(self, e, prev = None, next = None):\n",
        "    self.data = e\n",
        "    self.prev = prev\n",
        "    self.next = next\n",
        "\n",
        "  def append(self, node):\n",
        "    if node:\n",
        "      node.next = self.next\n",
        "      node.prev = self\n",
        "      if node.next:\n",
        "        node.next.prev = node\n",
        "      self.next = node\n",
        "\n",
        "  def popNext(self):\n",
        "    node = self.next\n",
        "    if node:\n",
        "      selfnext = node.next\n",
        "      if self.next:\n",
        "        self.next.prev = self\n",
        "      return node\n",
        "\n",
        "class DblLinkedList:\n",
        "  def __init__(self):\n",
        "    self.head = None\n",
        "\n",
        "  def display(self, msg='DblLinkedList:'):\n",
        "    print(msg, end='')\n",
        "    ptr = self.head\n",
        "    while ptr:\n",
        "      print(ptr.data, end=' <=> ')\n",
        "      ptr = ptr.next\n",
        "    print('None')\n",
        "\n",
        "  def insert(self, pos, e):\n",
        "    node = DNode(e)\n",
        "    before = self.getNode(pos-1)\n",
        "    if not before:\n",
        "      node.next = self.head\n",
        "      if node.next:\n",
        "        node.next.prev = node\n",
        "      self.head = node\n",
        "    else: before.append(node)\n",
        "\n",
        "  def delete(self, pos):\n",
        "    before = self.getNode(pos-1)\n",
        "    if not before:\n",
        "      before = self.head\n",
        "      if self.head:\n",
        "        self.head = self.head.next\n",
        "      if self.head:\n",
        "        self.head.prev = None\n",
        "      return before\n",
        "    else: before.popNext()"
      ],
      "metadata": {
        "colab": {
          "base_uri": "https://localhost:8080/",
          "height": 106
        },
        "id": "Ld-q5BMJuxmD",
        "outputId": "408c6ca4-d790-4444-d40f-5d25351e27ad"
      },
      "execution_count": null,
      "outputs": [
        {
          "output_type": "error",
          "ename": "SyntaxError",
          "evalue": "invalid syntax. Maybe you meant '==' or ':=' instead of '='? (<ipython-input-1-6736a1aa4bc0>, line 31)",
          "traceback": [
            "\u001b[0;36m  File \u001b[0;32m\"<ipython-input-1-6736a1aa4bc0>\"\u001b[0;36m, line \u001b[0;32m31\u001b[0m\n\u001b[0;31m    [ptr = tpr.link if ptr is not None else return None for _ in range(pos)]\u001b[0m\n\u001b[0m     ^\u001b[0m\n\u001b[0;31mSyntaxError\u001b[0m\u001b[0;31m:\u001b[0m invalid syntax. Maybe you meant '==' or ':=' instead of '='?\n"
          ]
        }
      ]
    },
    {
      "cell_type": "markdown",
      "source": [
        "# 4장 트리\n",
        "\n",
        "* 부모 노드 : 직접 연결된 노드 중 상위 노드\n",
        "* 자식 노드 : 직접 연결된 노드 중 하위 노드\n",
        "* 형제 노드 : 같은 부모 노드를 가진 노드\n",
        "* 조상 노드 : 어떤 노드에서 루트 노드까지 경로의 모든 노드\n",
        "* 자손 노드 : 어떤 노드 하위에 연결된 모든 노드\n",
        "* 단말/리프 노드 : 자식 노드가 없는 노드\n",
        "* 노드의 차수 : 노드가 가지고 있는 자식의 수\n",
        "* 트리의 차수 : 트리에 포함된 모든 노드의 차수 중 가장 큰 수\n",
        "* 레벨 : 트리의 층마다 매긴 번호\n",
        "* 트리의 높이 : 트리가 가진 최대 레벨"
      ],
      "metadata": {
        "id": "d05FYdXsJD7X"
      }
    },
    {
      "cell_type": "markdown",
      "source": [
        "- 이진 트리 : 모든 노드가 최대 2개의 자식만을 가질 수 있는 트리\n",
        "  - 포화 이진 트리 : 트리의 각 레벨에 노드가 꽉 차있는 이진 트리\n",
        "  - 완전 이진 트리 : 마지막 레벨 이전까지는 노드가 모두 채워져 있고 마지막 레벨에서는 왼쪽부터 오른쪽으로 순서대로 채워져 있는 이진 트리\n",
        "  - 균형 이진 트리/ 높이균형 이진 트리 : 모든 노드에서 좌우 서브 트리의 높이 차이가 1 이하인 트리\n",
        "  - 경사/ 경사 이진 트리 : 좌우 서브 트리 높이가 2 이상인 트리"
      ],
      "metadata": {
        "id": "I9S4TSPHzsbH"
      }
    },
    {
      "cell_type": "code",
      "source": [
        "class BTNode:\n",
        "  def __init__(self, elem, left=None, right=None):\n",
        "    self.data = elem\n",
        "    self.left = left\n",
        "    self.right = right"
      ],
      "metadata": {
        "id": "TFUh9ucMyg6j"
      },
      "execution_count": null,
      "outputs": []
    },
    {
      "cell_type": "markdown",
      "source": [
        "* 전위순회\n",
        "* 중위순회\n",
        "* 후위순회\n",
        "* 레벨순회"
      ],
      "metadata": {
        "id": "29c-96B83m2J"
      }
    },
    {
      "cell_type": "code",
      "source": [
        "#전위순회\n",
        "def preorder(n):\n",
        "  if n is not None:\n",
        "    print(n.data, end=' ')\n",
        "    preorder(n.left)\n",
        "    preorder(n.right)\n",
        "\n",
        "#중위순회\n",
        "def inorder(n):\n",
        "  if n is not None:\n",
        "    inorder(n.left)\n",
        "    print(n.data, end=' ')\n",
        "    inorder(n.right)\n",
        "\n",
        "#후위순회\n",
        "def postorder(n):\n",
        "  if n is not None:\n",
        "    postorder(n.left)\n",
        "    postorder(n.right)\n",
        "    print(n.data, end=' ')\n",
        "\n",
        "#레벨순회\n",
        "import queue\n",
        "def levelorder(root):\n",
        "  q = queue.Queue()\n",
        "  q.put(root)\n",
        "  while not q.empty():\n",
        "    n = q.get()\n",
        "    if n is not None:\n",
        "      print(n.data, end=' ')\n",
        "      q.put(n.left)\n",
        "      q.put(n.right)"
      ],
      "metadata": {
        "id": "vPsb6eKA32rs"
      },
      "execution_count": null,
      "outputs": []
    },
    {
      "cell_type": "code",
      "source": [
        "#노드 수 구하기\n",
        "def count_node(n):\n",
        "  return 0 if n is None else count_node(n.left)+count_node(n.right)+1\n",
        "\n",
        "#트리의 높이 구하기\n",
        "def calc_height(n):\n",
        "  return 0 if n is None else max(calc_height(n.left), calc_height(n.right))+1"
      ],
      "metadata": {
        "id": "1OOCvcOlA9a2"
      },
      "execution_count": null,
      "outputs": []
    },
    {
      "cell_type": "code",
      "source": [
        "#테스트 프로그램\n",
        "''' 단말 노드부터 루트까지 하나씩 트리 구축'''\n",
        "d = BTNode('D', None, None)\n",
        "e = BTNode('E', None, None)\n",
        "b = BTNode('B', d, e)\n",
        "f = BTNode('F', None, None)\n",
        "c = BTNode('C', f, None)\n",
        "root = BTNode('A', b, c)\n",
        "\n",
        "print('\\n In-Order : ', end='')\n",
        "inorder(root)\n",
        "print('\\n Pre-Order : ', end='')\n",
        "preorder(root)\n",
        "print('\\n Post-Order : ', end='')\n",
        "postorder(root)\n",
        "print('\\n Level-Order : ', end='')\n",
        "levelorder(root)\n",
        "\n",
        "print(\" 노드의 개수: %d 개\"%count_node(root))\n",
        "print(f' 트리의 높이: {calc_height(root)}')"
      ],
      "metadata": {
        "id": "evcDUZluBvVP"
      },
      "execution_count": null,
      "outputs": []
    },
    {
      "cell_type": "code",
      "source": [
        "# 코드 4.9: 영어 대문자에 대한 모스코드 표\n",
        "table =[('A', '.-'),    ('B', '-...'),  ('C', '-.-.'),  ('D', '-..'),\n",
        "        ('E', '.'),     ('F', '..-.'),  ('G', '--.'),   ('H', '....'),\n",
        "        ('I', '..'),    ('J', '.---'),  ('K', '-.-'),   ('L', '.-..'),\n",
        "        ('M', '--'),    ('N', '-.'),    ('O', '---'),   ('P', '.--.'),\n",
        "        ('Q', '--.-'),  ('R', '.-.'),   ('S', '...'),   ('T', '-'),\n",
        "        ('U', '..-'),   ('V', '...-'),  ('W', '.--'),   ('X', '-..-'),\n",
        "        ('Y', '-.--'),  ('Z', '--..') ]\n",
        "\n",
        "def make_morse_tree():\n",
        "  root = BTNode(None)\n",
        "  for tp in table:\n",
        "    code = tp[1]\n",
        "    node = root\n",
        "    for c in code:\n",
        "      if c == '.':\n",
        "        if node.left is None:\n",
        "          node.left = BTNode(None)\n",
        "        node = node.left\n",
        "      elif c == '-':\n",
        "        if node.right is None:\n",
        "          node.right = BTNode(None)\n",
        "        node = node.right\n",
        "    node.data = tp[0]\n",
        "  return root\n",
        "\n",
        "def decode(root, code):\n",
        "  node = root\n",
        "  for ch in code:\n",
        "    if ch == '.' : node = node.left\n",
        "    elif ch == '-' : node = node.right\n",
        "  return node.data"
      ],
      "metadata": {
        "id": "RIBDTMt7CWy_"
      },
      "execution_count": null,
      "outputs": []
    },
    {
      "cell_type": "code",
      "source": [
        "#수식 트리\n",
        "def evaluate(node):\n",
        "  if not node:\n",
        "    return 0\n",
        "  if node.isLeaf(): return node.data\n",
        "  else:\n",
        "    op1 = evaluate(node.left)\n",
        "    op2 = evaluate(node.right)\n",
        "    if node.data == '+': return op1 + op2\n",
        "    elif node.data == '-': return op1-op2\n",
        "    elif node.data == '*': return op1*op2\n",
        "    elif node.data == '/': return op1/op2"
      ],
      "metadata": {
        "id": "-IXIq59YfpZr"
      },
      "execution_count": null,
      "outputs": []
    },
    {
      "cell_type": "code",
      "source": [
        "#후위표기 수식을 이용한 수식트리\n",
        "def buildETree(expr):\n",
        "  if len(expr) == 0:\n",
        "    return None\n",
        "\n",
        "  token = expr.pop()\n",
        "  if token in \"/*-+\":\n",
        "    node = BTNode(token)\n",
        "    node.right = buildETree(expr)\n",
        "    node.left = buildETree(expr)\n",
        "    return node\n",
        "  else:\n",
        "    return BTNode(float(token))"
      ],
      "metadata": {
        "id": "FwBP66HRrXBa"
      },
      "execution_count": null,
      "outputs": []
    },
    {
      "cell_type": "markdown",
      "source": [
        "# 알고리즘"
      ],
      "metadata": {
        "id": "v4bluyI4RRMI"
      }
    },
    {
      "cell_type": "markdown",
      "source": [
        "# 5장 알고리즘 개요"
      ],
      "metadata": {
        "id": "q6VH8WuiCWVk"
      }
    },
    {
      "cell_type": "code",
      "source": [
        "#c\n",
        "int find_max(int a, int b, int c){\n",
        "    int max = a;\n",
        "    if( b > max A[i] ){\n",
        "        max = b;\n",
        "    }\n",
        "    if( c > max A[i]) {\n",
        "        max = c;\n",
        "    }\n",
        "    return tmp;\n",
        "}\n",
        "\n",
        "#pseudo\n",
        "find_max(a, b, c)\n",
        "  max <- a\n",
        "  if b > max then\n",
        "    max <- b\n",
        "  if c > max then\n",
        "    max <- c\n",
        "  return max\n",
        "\n",
        "#python\n",
        "def find_max(a, b, c):\n",
        "  max = a\n",
        "  if b > max;\n",
        "    max = b\n",
        "  if c > max:\n",
        "    max = c\n",
        "  return max"
      ],
      "metadata": {
        "id": "c1Ige-JLbSgN"
      },
      "execution_count": null,
      "outputs": []
    },
    {
      "cell_type": "code",
      "source": [
        "#시간 측정 예\n",
        "import time\n",
        "\n",
        "start = time.time()\n",
        "testAlgorithm(input)\n",
        "\n",
        "\n",
        "end = time.time()\n",
        "print(f'실행시간 : {end-start}')"
      ],
      "metadata": {
        "id": "p3Mu6hDhcJux"
      },
      "execution_count": null,
      "outputs": []
    },
    {
      "cell_type": "code",
      "source": [
        "#1~n 합\n",
        "calc_su1(n)\n",
        "  sum <- 0\n",
        "  for i <- 1 to n then\n",
        "    sum <- sum + i\n",
        "  return sum\n",
        "\n",
        "calc_sum2(n)\n",
        "  sum <- n*(n+1)/2\n",
        "  return sum"
      ],
      "metadata": {
        "id": "bVJ6JK9Bcbdx"
      },
      "execution_count": null,
      "outputs": []
    },
    {
      "cell_type": "markdown",
      "source": [
        "빅오 : g(n)과 같거나 낮은\n",
        " - 상한\n",
        "\n",
        "빅오메가 : g(n)과 같거나 높은\n",
        "  - 하한\n",
        "\n",
        "빅세타 : g(n)과 같은\n",
        " - 상한인 동시에 하한\n",
        "\n",
        "\n",
        "\n",
        "-- O\n",
        "\n",
        " 1 < logn < n < nlogn < n^2 < n^3 < 2^n < 3^n < n!\n",
        "\n",
        "\n",
        "\n",
        "\n",
        " ---\n",
        " 최선의 경우 : 실행 시간이 가장 적은 경우\n",
        "\n",
        " 평균적인 경우 : 모든 입력과 입력의 발생확률을 고려한 평균 실행 시간\n",
        "\n",
        " 최악의 경우 : 입력 구성이 실행 시간을 가장 많이 요구하는 경우"
      ],
      "metadata": {
        "id": "8oXwzLCJoXHn"
      }
    },
    {
      "cell_type": "markdown",
      "source": [
        "# 6장 정렬\n",
        "\n",
        "- 레코드 : 정렬시켜야 할 대상\n",
        "- 필드 : 레코드를 이루는 항목\n",
        "- 키/정렬 키 : 정렬의 기준이 되는 키\n",
        "\n",
        "\n",
        "\n",
        "---\n",
        "- 안정성 : 입력 데이터에 같은 킷값을 갖는 레코드가 여러 개 있을 때, 정렬 후에도 이들의 상대적인 위치가 바뀌지 않는 것\n",
        "- 제자리 정렬(in-place sorting) : 입력 배열 이외에 추가적인 배열을 사용하지 않는 정렬\n",
        "---\n",
        "- 내부 정렬 : 모든 데이터가 메인 메모리에 올라와 있는 정렬\n",
        "- 외부 정렬 : 데이터가 대부분 외부 기억장치에 있고 일부만 메모리에 올려 정렬하는 방법으로 대용량 자료를 정렬하기 위해 사용\n",
        "\n",
        "\n"
      ],
      "metadata": {
        "id": "kBL4nO4Xqn7a"
      }
    },
    {
      "cell_type": "markdown",
      "source": [
        "6.2 선택정렬\n",
        "\n",
        "- 정렬이 작은 값부터 순서대로 나열하는 작업.\n",
        "- 리슽트에서 가장 작은 값을 차아 출력하고, 남은 학목 중 다시 가장 작은 값을 찾아 출력하는 과정 반복\n",
        "---\n",
        "- 간단\n",
        "- O(n^2)\n",
        "- 안전성 불만족\n",
        "- 제자리 정렬\n",
        "- 자료구성에 상관없이 연산 횟수 결정(정렬할 리스트 크기가 정해지면 정렬 시간 예측 가능)\n",
        "- 리스트가 크지 않으면 충분히 사용 가능"
      ],
      "metadata": {
        "id": "dZSQ1cJLIskW"
      }
    },
    {
      "cell_type": "code",
      "source": [
        "#선택정렬\n",
        "def selection_sort(A):\n",
        "  n = len(A)\n",
        "  for i in rnge(n-1):\n",
        "    least = i\n",
        "    for j in range(i+1, n):\n",
        "      least = j if A[j] < A[least]\n",
        "    A[i], A[least] = A[least] , A[i]\n",
        "\n",
        "data = [5, 3, 8, 4, 9, 1, 6, 2, 7]\n",
        "print(f'Original: {data}')\n",
        "selection_sort(data)\n",
        "print(f'Selection: {data}')"
      ],
      "metadata": {
        "id": "ExhXqVjUp2n9"
      },
      "execution_count": null,
      "outputs": []
    },
    {
      "cell_type": "markdown",
      "source": [
        "6.3 삽입 정렬\n",
        "\n",
        "* 최선의 경우 : 입력 리스트가 오름차순으로 정렬되어 있는 경우\n",
        "* 최악의 경우 : 역순으로 정렬된 입력 리스트의 경우\n",
        "---\n",
        "* 입력에 따라 처리시간이 달라짐 (최악: O(n^2))\n",
        "* 끼워 넣는데 많은 레코드의 이동 요구\n",
        "* 제자리 정렬, 안정성 충족\n",
        "* 대부분 레코드가 정렬되어 있는 경우 효율적"
      ],
      "metadata": {
        "id": "STjpWZrMrcGG"
      }
    },
    {
      "cell_type": "code",
      "source": [
        "#삽입정렬\n",
        "def insertion_sort(A):\n",
        "  n = len(A)\n",
        "  for i in range(1, n):\n",
        "    key = A[i] #삽입할 요소를 미리 key에 저장\n",
        "    j = i-1\n",
        "    while j >= 0 and A[j] > key: #i-1요소부터 비교하여 앞으로 진행, key 보다 크면 뒤로 한 칸 이동\n",
        "      A[j+1] = A[j]\n",
        "      j -= 1\n",
        "    A[j+1] = key"
      ],
      "metadata": {
        "id": "HYzvZAHsTa73"
      },
      "execution_count": null,
      "outputs": []
    },
    {
      "cell_type": "markdown",
      "source": [
        "6.4 퀵 정렬\n",
        "\n",
        "* 최선의 경우 : 분할이 항상 리스트의 중앙에서 이루어질 때(O(nlogn))\n",
        "* 최악의 경우 : 정렬된 리스트의 경우 분할을 할 때마다 남은 요소들이 한번에 몰림(O(n^2))\n",
        "---\n",
        "* 평균적인 경우 최선의 경우보다 39%정도의 연산만 늘어남(비슷한 속도)\n",
        "* 불필요한 데이터의 이동을 줄이고 먼 거리의 데이터를 교환하며, 한번 결정된 피벗들이 추후 연산에서 제외\n",
        "* 왼쪽, 오른쪽, 중간의 3개의 요소 중 중간값을 선택하는 방법(median of three)이 많이 사용됨\n"
      ],
      "metadata": {
        "id": "na81uv5yVAg9"
      }
    },
    {
      "cell_type": "code",
      "source": [
        "#퀵정렬\n",
        "def quick_sort(A, left, right):\n",
        "  if left < right:\n",
        "    q = partition(A, left, right)\n",
        "    quick_sort(A, left, q-1)\n",
        "    quick_sort(A, q+1, right)\n",
        "\n",
        "def partition(A, left, right):\n",
        "  pivot = A[left]\n",
        "  low = left+1\n",
        "  high = right\n",
        "\n",
        "  while(low < high):\n",
        "    while low <= right and A[low] < pivot:\n",
        "      low += 1\n",
        "    while high >= left and A[high] > pivot:\n",
        "      high -= 1\n",
        "    if low < high:\n",
        "      A[low], A[high] = A[high], A[low]\n",
        "\n",
        "  A[left], A[high] = A[high], A[low] #마지막 교환\n",
        "  return high"
      ],
      "metadata": {
        "id": "V0oevRzZVC0S"
      },
      "execution_count": null,
      "outputs": []
    },
    {
      "cell_type": "markdown",
      "source": [
        "6.5 기수정렬\n",
        "\n",
        "- 선택, 삽입, 퀵 등 정렬 알고리즘은 리스트의 요소를 비교하는 **비교 기반 정렬** 이라고 한다.\n",
        "\n",
        "- 기수 정렬(radix sort)은 킷값을 비교하지 않고도 효율적인 비교 기반 정렬들로 이론적으로는 더 빨리 정렬할 수 있다.\n",
        "\n",
        " - 기수 : 숫자의 자릿수\n",
        "\n",
        "- 큐의 구조로 버킷을 여러개 사용하여 배분함\n",
        "---\n",
        "* dn에 비례하는 시간으로 O(dn)의 복잡도를 가짐\n",
        "* 정렬에 사용되는 킷값이 자연수로 표현되어야만 적용할 수 있음\n",
        "* 버킷을 위한 추가적인 메모리가 필요"
      ],
      "metadata": {
        "id": "3Vcd2WL9Akvp"
      }
    },
    {
      "cell_type": "code",
      "source": [
        "#기수정렬\n",
        "from collections import deque\n",
        "\n",
        "def radix_sort(A):\n",
        "  queue = []\n",
        "  for i in range(BUCKETS): #bucket개의 큐를 만들어 queue에 추가\n",
        "    queue.append(deque())\n",
        "\n",
        "  n = len(A)\n",
        "  factor = 1\n",
        "  for d in range(DIGITS):\n",
        "    for i in range(n):\n",
        "      queue[(A[i]//factor) %BUCKETS].append(A[i])\n",
        "    i = 0\n",
        "    for b in range(BUCKETS):\n",
        "      while queue[b]:\n",
        "        A[i] = queue[b].popleft()\n",
        "        i+=1\n",
        "    factor *= BUCKETS   # 1 * 1  * 10  * 10  *10  * 10\n",
        "    print(f'step: {d+1} {A}')\n",
        "\n",
        "\n",
        "#테스트 프로그램\n",
        "import random\n",
        "BUCKETS = 10\n",
        "DIGITS = 4\n",
        "\n",
        "data = [random.randint(1, 9999) for _ in range(10)]\n",
        "radix_sort(data)\n",
        "print(f'Radix: {data}')\n"
      ],
      "metadata": {
        "colab": {
          "base_uri": "https://localhost:8080/"
        },
        "id": "gUUH8BxRG6VD",
        "outputId": "221d3869-b7ef-452b-8b27-f035cfe39c48"
      },
      "execution_count": null,
      "outputs": [
        {
          "output_type": "stream",
          "name": "stdout",
          "text": [
            "step: 1 [1140, 2191, 5541, 9852, 792, 5133, 9435, 517, 6129, 6849]\n",
            "step: 2 [517, 6129, 5133, 9435, 1140, 5541, 6849, 9852, 2191, 792]\n",
            "step: 3 [6129, 5133, 1140, 2191, 9435, 517, 5541, 792, 6849, 9852]\n",
            "step: 4 [517, 792, 1140, 2191, 5133, 5541, 6129, 6849, 9435, 9852]\n",
            "Radix: [517, 792, 1140, 2191, 5133, 5541, 6129, 6849, 9435, 9852]\n"
          ]
        }
      ]
    },
    {
      "cell_type": "markdown",
      "source": [
        "6.6 파이썬의 정렬함수 사용하기\n",
        "\n",
        "* sort -> 원래의 리스트가 수정됨\n",
        " * data.sort([reverse=True])\n",
        "* sorted -> 원래의 리스트가 수정되지 않음\n",
        " * result = sorted(data, [reverse=True])\n",
        "\n",
        "* 복잡한 레코드의 정렬\n",
        " * 키워드 인수 key 제공, key에 정렬 기준을 반환하는 함수 지정\n",
        "        #x값으로 정렬할 경우\n",
        "        def keyfunc(p): # 레코드 p에서 키를 반환하는 함수. p=(x,y,z)\n",
        "          return p[0] # p의 첫 번째 요소(p[0], x값)를 키로 반환\n",
        "        \n",
        "        x_inc = sorted(data, key=keyfunc)\n",
        "\n",
        "* 람다 함수를 이용한 키 지정\n",
        " * lambda 인자(argument) : 식(expression)\n",
        "        # lambda p: p[0]\n",
        "\n",
        "        x_inc = sorted(data, key = lambda p: p[0])\n",
        "\n",
        "\n",
        "\n"
      ],
      "metadata": {
        "id": "BbhB27G6G5N2"
      }
    },
    {
      "cell_type": "markdown",
      "source": [
        "# 7장 탐색"
      ],
      "metadata": {
        "id": "EZn__fNVDrLi"
      }
    },
    {
      "cell_type": "code",
      "source": [
        "# 코드 7.1: 순차 탐색 알고리즘\n",
        "def sequential_search(A, key, low, high):\n",
        "  for i in range(low, high+1):\n",
        "    if A[i] == key:\n",
        "      return i\n",
        "    return -1"
      ],
      "metadata": {
        "id": "Eu8TgdqD-P8e"
      },
      "execution_count": null,
      "outputs": []
    },
    {
      "cell_type": "code",
      "source": [
        "# 코드 7.2: 교환하기 전략이 추가된 순차 탐색 알고리즘\n",
        "def sequential_seach_transpose(A, key, low, high):\n",
        "  for i in range(low, high+1):\n",
        "    if A[i] == key:\n",
        "      if i > low:\n",
        "        A[i], A[i-1] = A[i-1], A[i]\n",
        "        i -= 1\n",
        "      return i\n",
        "    return -1"
      ],
      "metadata": {
        "id": "HmiUGQai-SCj"
      },
      "execution_count": null,
      "outputs": []
    },
    {
      "cell_type": "code",
      "source": [
        "# 코드 7.3: 이진 탐색 알고리즘(순환 구조)\n",
        "def binary_search(A, key, low, high):\n",
        "  if low <= high:\n",
        "    middle = (low+high)//2\n",
        "    if key == A[middle]:\n",
        "      return middle\n",
        "    elif key < A[middle]:\n",
        "      return binary_search(A, key, low, middle-1)\n",
        "    elif key > A[middle]:\n",
        "      return binary_search(A, key, middle+1, high)\n",
        "  return -1"
      ],
      "metadata": {
        "id": "T0-nc1Y0-TL5"
      },
      "execution_count": null,
      "outputs": []
    },
    {
      "cell_type": "code",
      "source": [
        "# 코드 7.4: 이진 탐색 알고리즘(반복 구조)\n",
        "def binary_search_iter(A, key, low, high):\n",
        "  while low <= high:\n",
        "    middle = (low+high)//2\n",
        "    if key == A[middle]:\n",
        "      return middle\n",
        "    elif key < A[middle]:\n",
        "      high = middle - 1\n",
        "    elif key > A[middle]:\n",
        "      low = middle + 1\n",
        "    return -1"
      ],
      "metadata": {
        "id": "7y1L6pDy-UVX"
      },
      "execution_count": null,
      "outputs": []
    },
    {
      "cell_type": "code",
      "source": [
        "# 코드 7.5: 이진탐색트리를 위한 노드 클래스\n",
        "class BSTNode:\n",
        "  def __init__(self, key, value):\n",
        "    self.key = key\n",
        "    self.value = value\n",
        "    self.left = None\n",
        "    self.right = None\n",
        "\n",
        "  def __str__(self):\n",
        "    return f'{self.key}:{self.value}'"
      ],
      "metadata": {
        "id": "kCK3GrLD4YIm"
      },
      "execution_count": null,
      "outputs": []
    },
    {
      "cell_type": "code",
      "source": [
        "# 코드 7.6: 이진탐색트리의 탐색 연산(순환 구조)\n",
        "def search_bst(n, key):\n",
        "  if not n:\n",
        "    return None\n",
        "  elif key == n.key:# n의 키 값과 동일 -> 탐색 성공\n",
        "    return n\n",
        "  elif key < n.key: #찾으려는 키 값보다\n",
        "    return search_bst(n.left, key) # n의 키 값이 더 클 경우 왼쪽 탐색\n",
        "  elif key > n.key:\n",
        "    return search_bst(n.right, key) #n의 키 값이 더 작을 경우 오른쪽 탐색"
      ],
      "metadata": {
        "id": "w0z8bQLZ4n4U"
      },
      "execution_count": null,
      "outputs": []
    },
    {
      "cell_type": "code",
      "source": [
        "# 코드 7.7: 이진탐색트리의 값을 이용한 탐색(전위 순회)\n",
        "def search_value_bst(n, value):\n",
        "  if not n: return None\n",
        "  elif value == n.value:\n",
        "    return n\n",
        "  res = search_value_bst(n.left, value) # 왼쪽 서브트리에서 탐색\n",
        "  if res is not None: # 왼쪽 서브트리에서 탐색 성공 시\n",
        "    return res\n",
        "  else: # 왼쪽 서브트리에서 탐색 실패 시\n",
        "    return search_value_bst(n.right, value) #오른쪽 탐색 결과 반환"
      ],
      "metadata": {
        "id": "A-cz_DGS5a_Q"
      },
      "execution_count": null,
      "outputs": []
    },
    {
      "cell_type": "code",
      "source": [
        "# 코드 7.8: 이진탐색트리의 삽입 연산\n",
        "def insert_bst(root, node):\n",
        "  if not root: #공백 노드에 도달하면 이 위치에 삽입\n",
        "    return node\n",
        "  if node.key == root.key: # 동일한 키일 경우 root 반환\n",
        "    return root\n",
        "  if node.key < root.key: #왼쪽 서브트리에 넣어야 하는 경우\n",
        "    root.left = insert_bst(root.left, node) #순환호출 후 left 갱신\n",
        "  elif node.key > root.key: #오른쪽 서브트리에 넣어야 하는 경우\n",
        "    root.right = insert_bst(root.right, node) #순환호출 후 right 갱신\n",
        "\n",
        "  return root #루트 노드 반환"
      ],
      "metadata": {
        "id": "ZQoLo4x75lns"
      },
      "execution_count": null,
      "outputs": []
    },
    {
      "cell_type": "code",
      "source": [
        "# 코드 7.9: 이진탐색트리의 삭제 연산\n",
        "def delete_bst(root, key):\n",
        "  if not root: #공백트리\n",
        "    return root\n",
        "  #key가 루트보다 작으면 왼쪽 서브트리에서 삭제하고, left를 갱신\n",
        "  if key < root.key:\n",
        "    root.left = delete_bst(root.left, key)\n",
        "  #key가 루트보다 크면 오른쪽 서브트리에서 삭제하고, right를 갱신\n",
        "  elif key > root.key:\n",
        "    root.right = delete_bst(root.right, key)\n",
        "  #key가 루트와 같으면 root 삭제\n",
        "  elif key == root.key:\n",
        "    if not root.left: #단말노드이거나 오른쪽 자식만 가진 노드 삭제\n",
        "      return root.right #root 대신 right로 대체\n",
        "    if not root.right: #왼쪽 자식만 가진 노드 삭제\n",
        "      return root.left\n",
        "\n",
        "    #2개의 자식을 모두 가진 경우\n",
        "    succ = root.right\n",
        "    while succ.left:\n",
        "      succ = succ.left\n",
        "\n",
        "    root.key = succ.key #후계자의 데이터를 root에 복사\n",
        "    root.value = succ.value\n",
        "    root.rght = delete_bst(root.right, succ.key)\n",
        "\n",
        "  return root\n"
      ],
      "metadata": {
        "id": "tYGZ3ZPq5nen"
      },
      "execution_count": null,
      "outputs": []
    },
    {
      "cell_type": "code",
      "source": [
        "# 전위 순회: 트리 구조 출력\n",
        "def preorder(n):\n",
        "  if n is not None:\n",
        "    print('{', end=' ')\n",
        "    print(n, end=' ')\n",
        "    preorder(n.left)\n",
        "    preorder(n.right)\n",
        "    print('}', end=' ')"
      ],
      "metadata": {
        "id": "VvO23Muz5pgW"
      },
      "execution_count": null,
      "outputs": []
    },
    {
      "cell_type": "code",
      "source": [
        "# 코드 7.10: 이진탐색트리의 테스트 프로그램\n",
        "def print_node(msg, n):\n",
        "  print(msg, n if n != None else '탐색실패')\n",
        "def print_tree(msg,r):\n",
        "  print(msg, end=' ')\n",
        "  preorder(r)\n",
        "  print()\n",
        "\n",
        "data = [(6, \"여섯\"), (8, \"여덟\"), (2,\"둘\"), (4,\"넷\"),  (7,\"일곱\"), (5,\"다섯\"), (1,\"하나\"), (9,\"아홉\"), (3,\"셋\"), (0,\"영\")]\n",
        "\n",
        "root = None         \t        # 루트 노드 생성 및 초기화\n",
        "for i in range(0, len(data)):\t# 노드 순서대로 추가하기\n",
        "    root = insert_bst(root, BSTNode(data[i][0], data[i][1]))\n",
        "\n",
        "print_tree(\"최초: \", root)\t\t# 최초의 트리 출력\n",
        "\n",
        "n = search_bst(root, 3);        print_node(\"srch 3: \", n)\n",
        "n = search_bst(root, 8);        print_node(\"srch 8: \", n)\n",
        "n = search_bst(root, 0);        print_node(\"srch 0: \", n)\n",
        "n = search_bst(root, 10);       print_node(\"srch10: \", n)\n",
        "n = search_value_bst(root,\"둘\");print_node(\"srch둘: \", n)\n",
        "n = search_value_bst(root,\"열\");print_node(\"srch열: \", n)\n",
        "\n",
        "root = delete_bst(root, 7);     print_tree(\"del  7: \", root)\n",
        "root = delete_bst(root, 8);     print_tree(\"del  8: \", root)\n",
        "root = delete_bst(root, 2);     print_tree(\"del  2: \", root)\n",
        "root = delete_bst(root, 6);     print_tree(\"del  6: \", root)"
      ],
      "metadata": {
        "id": "EHnyY2Yd5p2i"
      },
      "execution_count": null,
      "outputs": []
    },
    {
      "cell_type": "markdown",
      "source": [
        "# 8장 그래프"
      ],
      "metadata": {
        "id": "RAgtKpww-KH_"
      }
    },
    {
      "cell_type": "code",
      "source": [
        "# 너비 우선 탐색(인접 리스트 방식)\n",
        "from queue import Queue\n",
        "def BFS_AL(vtx, aList, s):\n",
        "  n = len(vex)\n",
        "  visited = [False]*n\n",
        "  Q = Queue()\n",
        "  Q.put(s)\n",
        "  visited[s] = True\n",
        "  while not Q.empty():\n",
        "    s = Q.get()\n",
        "    print(vtx[s], end=' ')\n",
        "    for v in aList[s]:\n",
        "      if not visited[v]:\n",
        "        Q.put(v)\n",
        "        visited[v] = True\n",
        "\n",
        "vtx = ['U','V','W','X','Y']     # 그림 8.11(c)의 정점 리스트\n",
        "aList=[[1, 2],                  # 그림 8.11(c)의 인접 리스트\n",
        "       [0, 2, 3],\n",
        "       [0, 1, 4],\n",
        "       [1],\n",
        "       [2]]\n",
        "\n",
        "print('BFS_AL(출발:U): ', end='')\n",
        "BFS_AL(vtx, aList, 0)\n",
        "print()"
      ],
      "metadata": {
        "id": "UCVeCjv1VUri"
      },
      "execution_count": null,
      "outputs": []
    },
    {
      "cell_type": "code",
      "source": [
        "# 깊이 우선 탐색(인접행렬 방식)\n",
        "def DFS(vtx, adj, s, visited):\n",
        "  print(vtx[s], end=' ')\n",
        "  visited[s] = True\n",
        "  for v in range(len(vtx)):\n",
        "    if adj[s][v] != 0:\n",
        "      if not visited[v]:\n",
        "        DFS(vtx, adj, v, visited)\n",
        "\n",
        "vtx = ['U','V','W','X','Y']     # 그림 8.9의 정점 리스트\n",
        "edge= [[0,  1,  1,  0,  0],     # 그림 8.9의 인접 행렬\n",
        "       [1,  0,  1,  1,  0],\n",
        "       [1,  1,  0,  0,  1],\n",
        "       [0,  1,  0,  0,  0],\n",
        "       [0,  0,  1,  0,  0]]\n",
        "\n",
        "print(f'DFS(출발:U) : ', end='')\n",
        "DFS(vtx, edge, 0, [False]*len(vtx))\n",
        "print()"
      ],
      "metadata": {
        "id": "D0fOr_IGXPFv"
      },
      "execution_count": null,
      "outputs": []
    },
    {
      "cell_type": "code",
      "source": [
        "# Prin MST\n",
        "\n",
        "# MST에 포함되지 않은 최소 dist의 정점 찾기\n",
        "INF = 999\n",
        "def getMinVertex(dist, selected):\n",
        "  minv = 0\n",
        "  mindist = INF\n",
        "  for v in range(len(dist)):\n",
        "    if not selected[v] and dist[v]<mindist:\n",
        "      mindist = dist[v]\n",
        "      minv = v\n",
        "  return minv\n",
        "\n",
        "# 프림의 최소 신장 트리\n",
        "def MSTPrin(vertex, adj):\n",
        "  n = len(vertex)\n",
        "  dist = [INF]*n        # dist는 MST에서 정점까지의 거리 배열\n",
        "  dist[0] = 0           # dist: [0, INF, INF, ..., INF]\n",
        "  selected = [False]*n  # selected: [False, ..., False]\n",
        "\n",
        "  for _ in range(n):    # n개의 정점을 MST에 추가하면 종료\n",
        "    u = getMinVertex(dist, selected)\n",
        "    selected[u] = True  # u는 이제 MST에 포함\n",
        "    print(vertex[u], end=' ') # u 출력\n",
        "    for v in range(n):\n",
        "      # 간선 (u,v)가 있고, v ∉ MST 이면\n",
        "      if adj[u][v] != INF and not selected[v]:\n",
        "        if adj[u][v] < dist[v]: # (u,v)가 dist[v]보다 작으면\n",
        "          dist[v]=adj[u][v]     # dist[v] 갱신\n",
        "    print(': ', dist)   #중간결과 출력\n",
        "  print()\n",
        "\n",
        "vertex =   ['A',    'B',    'C',    'D',    'E',    'F',    'G' ]\n",
        "weight = [ [0,\t   25,\t\tINF,\t12,\t  INF,     INF,\t\tINF],\n",
        "           [25,\t\t0,\t    10,\t\tINF,\t15,\t   INF,\t    INF],\n",
        "           [INF,\t10,\t\t0,\t    INF,\tINF,\tINF,\t16],\n",
        "           [12,\t    INF,    INF,\t0,      17,\t    37,\t    INF],\n",
        "           [INF,\t15,\t    INF,    17,\t    0,      19,\t\t14  ],\n",
        "           [INF,\tINF,\tINF,\t37,     19,\t\t0,\t    42],\n",
        "           [INF,    INF,\t16,     INF,\t14,\t\t42,\t    0   ]]\n",
        "\n",
        "print(\"MST By Prim's Algorithm\")\n",
        "MSTPrim(vertex, weight)"
      ],
      "metadata": {
        "id": "XX3R5EcMYCBR"
      },
      "execution_count": null,
      "outputs": []
    },
    {
      "cell_type": "code",
      "source": [
        "# DFS를 이용한 신장트리(인접행렬 방식)\n",
        "def ST_DFS(vtx, adj, s, visited):\n",
        "  visited[s] = True           # 현재 정점 s를 visited에 추가\n",
        "  for v in range(len(vtx)):   # 인접 행렬\n",
        "    if adj[s][v] != 0:        # 모든 간선 (s,v)에 대해\n",
        "      if not visited[v]:      # v를 아직 방문하지 않았으면\n",
        "        print(f'({vtx[s]}, {vtx[v]})', end=' ') # 간선 출력\n",
        "        ST_DFS(vtx, adj, v, visited)\n",
        "\n",
        "vtx = ['U','V','W','X','Y']\n",
        "edge= [[0,  1,  1,  0,  0],\n",
        "       [1,  0,  1,  1,  0],\n",
        "       [1,  1,  0,  0,  1],\n",
        "       [0,  1,  0,  0,  0],\n",
        "       [0,  0,  1,  0,  0]]\n",
        "\n",
        "print('ST_DFS_AM: ', end=\"\")\n",
        "ST_DFS(vtx, edge, 0, [False]*len(vtx))\n",
        "print()"
      ],
      "metadata": {
        "id": "p25o37fya3Uu"
      },
      "execution_count": null,
      "outputs": []
    },
    {
      "cell_type": "markdown",
      "source": [
        "# 9장 억지 기법과 탐욕적 전략"
      ],
      "metadata": {
        "id": "AZlVTp21VMTA"
      }
    },
    {
      "cell_type": "markdown",
      "source": [
        "# 10장 분할 정복"
      ],
      "metadata": {
        "id": "2JkEPPoqVQVq"
      }
    },
    {
      "cell_type": "markdown",
      "source": [
        "# 11장 동적 계획법"
      ],
      "metadata": {
        "id": "IlinuDl4VSJC"
      }
    },
    {
      "cell_type": "markdown",
      "source": [
        "# 끝"
      ],
      "metadata": {
        "id": "GsbAaC9VMrA4"
      }
    }
  ]
}